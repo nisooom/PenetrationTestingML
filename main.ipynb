{
 "cells": [
  {
   "cell_type": "code",
   "outputs": [],
   "source": [
    "from sklearn.tree import DecisionTreeClassifier\n",
    "from sklearn.neighbors import KNeighborsClassifier\n",
    "import pandas as pd\n",
    "import numpy as np\n",
    "import matplotlib.pyplot as plt\n",
    "from sklearn.preprocessing import StandardScaler\n",
    "from sklearn import metrics\n",
    "from sklearn.model_selection import train_test_split\n",
    "import tensorflow as tf\n",
    "from tensorflow.keras.models import Sequential\n",
    "from tensorflow.keras.layers import Dense, Dropout\n",
    "from sklearn.neural_network import MLPClassifier\n",
    "import pickle\n"
   ],
   "metadata": {
    "collapsed": true,
    "is_executing": true
   },
   "id": "initial_id",
   "execution_count": null
  },
  {
   "cell_type": "code",
   "outputs": [],
   "source": [
    "df = pd.read_csv(\"nsl-kdd/KDDTrain+.txt\")"
   ],
   "metadata": {
    "collapsed": false,
    "ExecuteTime": {
     "end_time": "2024-01-19T07:29:08.266027Z",
     "start_time": "2024-01-19T07:29:07.653870100Z"
    }
   },
   "id": "e71cd7e4a70bb100",
   "execution_count": 182
  },
  {
   "cell_type": "code",
   "outputs": [],
   "source": [
    "columns = (['duration','protocol_type','service','flag','src_bytes','dst_bytes','land','wrong_fragment','urgent','hot'\n",
    ",'num_failed_logins','logged_in','num_compromised','root_shell','su_attempted','num_root','num_file_creations'\n",
    ",'num_shells','num_access_files','num_outbound_cmds','is_host_login','is_guest_login','count','srv_count','serror_rate'\n",
    ",'srv_serror_rate','rerror_rate','srv_rerror_rate','same_srv_rate','diff_srv_rate','srv_diff_host_rate','dst_host_count','dst_host_srv_count'\n",
    ",'dst_host_same_srv_rate','dst_host_diff_srv_rate','dst_host_same_src_port_rate','dst_host_srv_diff_host_rate','dst_host_serror_rate'\n",
    ",'dst_host_srv_serror_rate','dst_host_rerror_rate','dst_host_srv_rerror_rate','outcome','level'])"
   ],
   "metadata": {
    "collapsed": false,
    "ExecuteTime": {
     "end_time": "2024-01-19T07:29:08.302056400Z",
     "start_time": "2024-01-19T07:29:08.282029Z"
    }
   },
   "id": "fb54d13aaed819bd",
   "execution_count": 183
  },
  {
   "cell_type": "code",
   "outputs": [
    {
     "data": {
      "text/plain": "   duration protocol_type  service flag  src_bytes  dst_bytes  land  \\\n0         0           udp    other   SF        146          0     0   \n1         0           tcp  private   S0          0          0     0   \n2         0           tcp     http   SF        232       8153     0   \n3         0           tcp     http   SF        199        420     0   \n4         0           tcp  private  REJ          0          0     0   \n\n   wrong_fragment  urgent  hot  ...  dst_host_same_srv_rate  \\\n0               0       0    0  ...                    0.00   \n1               0       0    0  ...                    0.10   \n2               0       0    0  ...                    1.00   \n3               0       0    0  ...                    1.00   \n4               0       0    0  ...                    0.07   \n\n   dst_host_diff_srv_rate  dst_host_same_src_port_rate  \\\n0                    0.60                         0.88   \n1                    0.05                         0.00   \n2                    0.00                         0.03   \n3                    0.00                         0.00   \n4                    0.07                         0.00   \n\n   dst_host_srv_diff_host_rate  dst_host_serror_rate  \\\n0                         0.00                  0.00   \n1                         0.00                  1.00   \n2                         0.04                  0.03   \n3                         0.00                  0.00   \n4                         0.00                  0.00   \n\n   dst_host_srv_serror_rate  dst_host_rerror_rate  dst_host_srv_rerror_rate  \\\n0                      0.00                   0.0                      0.00   \n1                      1.00                   0.0                      0.00   \n2                      0.01                   0.0                      0.01   \n3                      0.00                   0.0                      0.00   \n4                      0.00                   1.0                      1.00   \n\n   outcome  level  \n0   normal     15  \n1  neptune     19  \n2   normal     21  \n3   normal     21  \n4  neptune     21  \n\n[5 rows x 43 columns]",
      "text/html": "<div>\n<style scoped>\n    .dataframe tbody tr th:only-of-type {\n        vertical-align: middle;\n    }\n\n    .dataframe tbody tr th {\n        vertical-align: top;\n    }\n\n    .dataframe thead th {\n        text-align: right;\n    }\n</style>\n<table border=\"1\" class=\"dataframe\">\n  <thead>\n    <tr style=\"text-align: right;\">\n      <th></th>\n      <th>duration</th>\n      <th>protocol_type</th>\n      <th>service</th>\n      <th>flag</th>\n      <th>src_bytes</th>\n      <th>dst_bytes</th>\n      <th>land</th>\n      <th>wrong_fragment</th>\n      <th>urgent</th>\n      <th>hot</th>\n      <th>...</th>\n      <th>dst_host_same_srv_rate</th>\n      <th>dst_host_diff_srv_rate</th>\n      <th>dst_host_same_src_port_rate</th>\n      <th>dst_host_srv_diff_host_rate</th>\n      <th>dst_host_serror_rate</th>\n      <th>dst_host_srv_serror_rate</th>\n      <th>dst_host_rerror_rate</th>\n      <th>dst_host_srv_rerror_rate</th>\n      <th>outcome</th>\n      <th>level</th>\n    </tr>\n  </thead>\n  <tbody>\n    <tr>\n      <th>0</th>\n      <td>0</td>\n      <td>udp</td>\n      <td>other</td>\n      <td>SF</td>\n      <td>146</td>\n      <td>0</td>\n      <td>0</td>\n      <td>0</td>\n      <td>0</td>\n      <td>0</td>\n      <td>...</td>\n      <td>0.00</td>\n      <td>0.60</td>\n      <td>0.88</td>\n      <td>0.00</td>\n      <td>0.00</td>\n      <td>0.00</td>\n      <td>0.0</td>\n      <td>0.00</td>\n      <td>normal</td>\n      <td>15</td>\n    </tr>\n    <tr>\n      <th>1</th>\n      <td>0</td>\n      <td>tcp</td>\n      <td>private</td>\n      <td>S0</td>\n      <td>0</td>\n      <td>0</td>\n      <td>0</td>\n      <td>0</td>\n      <td>0</td>\n      <td>0</td>\n      <td>...</td>\n      <td>0.10</td>\n      <td>0.05</td>\n      <td>0.00</td>\n      <td>0.00</td>\n      <td>1.00</td>\n      <td>1.00</td>\n      <td>0.0</td>\n      <td>0.00</td>\n      <td>neptune</td>\n      <td>19</td>\n    </tr>\n    <tr>\n      <th>2</th>\n      <td>0</td>\n      <td>tcp</td>\n      <td>http</td>\n      <td>SF</td>\n      <td>232</td>\n      <td>8153</td>\n      <td>0</td>\n      <td>0</td>\n      <td>0</td>\n      <td>0</td>\n      <td>...</td>\n      <td>1.00</td>\n      <td>0.00</td>\n      <td>0.03</td>\n      <td>0.04</td>\n      <td>0.03</td>\n      <td>0.01</td>\n      <td>0.0</td>\n      <td>0.01</td>\n      <td>normal</td>\n      <td>21</td>\n    </tr>\n    <tr>\n      <th>3</th>\n      <td>0</td>\n      <td>tcp</td>\n      <td>http</td>\n      <td>SF</td>\n      <td>199</td>\n      <td>420</td>\n      <td>0</td>\n      <td>0</td>\n      <td>0</td>\n      <td>0</td>\n      <td>...</td>\n      <td>1.00</td>\n      <td>0.00</td>\n      <td>0.00</td>\n      <td>0.00</td>\n      <td>0.00</td>\n      <td>0.00</td>\n      <td>0.0</td>\n      <td>0.00</td>\n      <td>normal</td>\n      <td>21</td>\n    </tr>\n    <tr>\n      <th>4</th>\n      <td>0</td>\n      <td>tcp</td>\n      <td>private</td>\n      <td>REJ</td>\n      <td>0</td>\n      <td>0</td>\n      <td>0</td>\n      <td>0</td>\n      <td>0</td>\n      <td>0</td>\n      <td>...</td>\n      <td>0.07</td>\n      <td>0.07</td>\n      <td>0.00</td>\n      <td>0.00</td>\n      <td>0.00</td>\n      <td>0.00</td>\n      <td>1.0</td>\n      <td>1.00</td>\n      <td>neptune</td>\n      <td>21</td>\n    </tr>\n  </tbody>\n</table>\n<p>5 rows × 43 columns</p>\n</div>"
     },
     "execution_count": 184,
     "metadata": {},
     "output_type": "execute_result"
    }
   ],
   "source": [
    "df.columns = columns\n",
    "df.head()"
   ],
   "metadata": {
    "collapsed": false,
    "ExecuteTime": {
     "end_time": "2024-01-19T07:29:08.350572600Z",
     "start_time": "2024-01-19T07:29:08.300059Z"
    }
   },
   "id": "ac9b7998bb0e3ab2",
   "execution_count": 184
  },
  {
   "cell_type": "code",
   "outputs": [
    {
     "data": {
      "text/plain": "duration                       2981\nprotocol_type                     3\nservice                          70\nflag                             11\nsrc_bytes                      3341\ndst_bytes                      9326\nland                              2\nwrong_fragment                    3\nurgent                            4\nhot                              28\nnum_failed_logins                 6\nlogged_in                         2\nnum_compromised                  88\nroot_shell                        2\nsu_attempted                      3\nnum_root                         82\nnum_file_creations               35\nnum_shells                        3\nnum_access_files                 10\nnum_outbound_cmds                 1\nis_host_login                     2\nis_guest_login                    2\ncount                           512\nsrv_count                       509\nserror_rate                      89\nsrv_serror_rate                  86\nrerror_rate                      82\nsrv_rerror_rate                  62\nsame_srv_rate                   101\ndiff_srv_rate                    95\nsrv_diff_host_rate               60\ndst_host_count                  256\ndst_host_srv_count              256\ndst_host_same_srv_rate          101\ndst_host_diff_srv_rate          101\ndst_host_same_src_port_rate     101\ndst_host_srv_diff_host_rate      75\ndst_host_serror_rate            101\ndst_host_srv_serror_rate        100\ndst_host_rerror_rate            101\ndst_host_srv_rerror_rate        101\noutcome                          23\nlevel                            22\ndtype: int64"
     },
     "execution_count": 185,
     "metadata": {},
     "output_type": "execute_result"
    }
   ],
   "source": [
    "df.nunique()\n"
   ],
   "metadata": {
    "collapsed": false,
    "ExecuteTime": {
     "end_time": "2024-01-19T07:29:08.493093900Z",
     "start_time": "2024-01-19T07:29:08.349570900Z"
    }
   },
   "id": "d2dd2d48448e86d7",
   "execution_count": 185
  },
  {
   "cell_type": "markdown",
   "source": [
    "# Data Preprocessing"
   ],
   "metadata": {
    "collapsed": false
   },
   "id": "40deb6e51f139f02"
  },
  {
   "cell_type": "code",
   "outputs": [],
   "source": [
    "# Changing outcomes to 0 for normal, 1 for penetration\n",
    "\n",
    "df.loc[df['outcome'] == \"normal\", \"outcome\"] = 'normal'\n",
    "df.loc[df['outcome'] != 'normal', \"outcome\"] = 'attack'\n",
    "df.loc[df['outcome'] == \"normal\", \"outcome\"] = 0\n",
    "df.loc[df['outcome'] != 0, \"outcome\"] = 1\n"
   ],
   "metadata": {
    "collapsed": false,
    "ExecuteTime": {
     "end_time": "2024-01-19T07:29:08.561614100Z",
     "start_time": "2024-01-19T07:29:08.458087900Z"
    }
   },
   "id": "724240ce05efb1a3",
   "execution_count": 186
  },
  {
   "cell_type": "code",
   "outputs": [],
   "source": [
    "cat_cols = ['is_host_login','protocol_type','service','flag','land', 'logged_in','is_guest_login']\n",
    "df.drop(cat_cols, axis=1, inplace=True)\n",
    "X = df.drop('outcome', axis=1)\n",
    "Y = df['outcome']\n",
    "Y = Y.astype('int')"
   ],
   "metadata": {
    "collapsed": false,
    "ExecuteTime": {
     "end_time": "2024-01-19T07:29:08.615133900Z",
     "start_time": "2024-01-19T07:29:08.523618700Z"
    }
   },
   "id": "f843b41e2d640075",
   "execution_count": 187
  },
  {
   "cell_type": "code",
   "outputs": [],
   "source": [
    "sc = StandardScaler()\n",
    "x = sc.fit_transform(X)"
   ],
   "metadata": {
    "collapsed": false,
    "ExecuteTime": {
     "end_time": "2024-01-19T07:29:08.632132500Z",
     "start_time": "2024-01-19T07:29:08.616133300Z"
    }
   },
   "id": "df8842058aeaf928",
   "execution_count": 187
  },
  {
   "cell_type": "code",
   "outputs": [],
   "source": [
    "np.save('scaled-input', x)"
   ],
   "metadata": {
    "collapsed": false,
    "ExecuteTime": {
     "end_time": "2024-01-19T07:29:08.674133700Z",
     "start_time": "2024-01-19T07:29:08.647131200Z"
    }
   },
   "id": "f20458ef8c48bb68",
   "execution_count": 188
  },
  {
   "cell_type": "markdown",
   "source": [
    "# Splitting"
   ],
   "metadata": {
    "collapsed": false
   },
   "id": "2387902c8bd53134"
  },
  {
   "cell_type": "code",
   "outputs": [],
   "source": [
    "x_train, x_test, y_train, y_test = train_test_split(x, Y, test_size=0.2)"
   ],
   "metadata": {
    "collapsed": false,
    "ExecuteTime": {
     "end_time": "2024-01-19T07:29:08.773656200Z",
     "start_time": "2024-01-19T07:29:08.681132400Z"
    }
   },
   "id": "13618a0f7dd9e5b2",
   "execution_count": 190
  },
  {
   "cell_type": "code",
   "outputs": [
    {
     "data": {
      "text/plain": "(100777, 35)"
     },
     "execution_count": 191,
     "metadata": {},
     "output_type": "execute_result"
    }
   ],
   "source": [
    "x_train.shape"
   ],
   "metadata": {
    "collapsed": false,
    "ExecuteTime": {
     "end_time": "2024-01-19T07:29:08.792665100Z",
     "start_time": "2024-01-19T07:29:08.775655900Z"
    }
   },
   "id": "4d67c9ba7b659ff1",
   "execution_count": 191
  },
  {
   "cell_type": "code",
   "outputs": [
    {
     "data": {
      "text/plain": "(25195, 35)"
     },
     "execution_count": 192,
     "metadata": {},
     "output_type": "execute_result"
    }
   ],
   "source": [
    "x_test.shape"
   ],
   "metadata": {
    "collapsed": false,
    "ExecuteTime": {
     "end_time": "2024-01-19T07:29:08.837180600Z",
     "start_time": "2024-01-19T07:29:08.792665100Z"
    }
   },
   "id": "f1b5b001ee1a9ad9",
   "execution_count": 192
  },
  {
   "cell_type": "markdown",
   "source": [
    "# Model Training"
   ],
   "metadata": {
    "collapsed": false
   },
   "id": "cf5b555a57883dae"
  },
  {
   "cell_type": "code",
   "outputs": [],
   "source": [
    "def evaluate_classification(model, name, X_train, X_test, y_train, y_test):\n",
    "    \n",
    "    train_accuracy = metrics.accuracy_score(y_train, model.predict(X_train))\n",
    "    test_accuracy = metrics.accuracy_score(y_test, model.predict(X_test))\n",
    "    \n",
    "    train_precision = metrics.precision_score(y_train, model.predict(X_train))\n",
    "    test_precision = metrics.precision_score(y_test, model.predict(X_test))\n",
    "    \n",
    "    train_recall = metrics.recall_score(y_train, model.predict(X_train))\n",
    "    test_recall = metrics.recall_score(y_test, model.predict(X_test))\n",
    "    \n",
    "    train_f1 = metrics.f1_score(y_train, model.predict(X_train))\n",
    "    test_f1 = metrics.f1_score(y_test, model.predict(X_test))\n",
    "        \n",
    "    print(name)\n",
    "    print(f\"Train accuracy: {train_accuracy * 100}, Test Accuracy: {test_accuracy*100}\")\n",
    "    print(f\"Train Precision: {train_precision * 100}, Test Precision: {test_precision*100}\")\n",
    "    print(f\"Train Recall: {train_recall * 100}, Test Recall: {test_recall*100}\")\n",
    "    print(f\"Train F1 Score: {train_f1 * 100}, Test F1 Score: {test_f1*100}\")\n",
    "    \n",
    "    \n",
    "    actual = y_test\n",
    "    predicted = model.predict(X_test)\n",
    "    confusion_matrix = metrics.confusion_matrix(actual, predicted)\n",
    "    cm_display = metrics.ConfusionMatrixDisplay(confusion_matrix = confusion_matrix, display_labels = ['normal', 'attack'])\n",
    "\n",
    "    fig, ax = plt.subplots(figsize=(10,10))\n",
    "    ax.grid(False)\n",
    "    cm_display.plot(ax=ax)    "
   ],
   "metadata": {
    "collapsed": false,
    "ExecuteTime": {
     "end_time": "2024-01-19T07:29:08.839176600Z",
     "start_time": "2024-01-19T07:29:08.819178300Z"
    }
   },
   "id": "e9e49acdd9bbaed0",
   "execution_count": 193
  },
  {
   "cell_type": "code",
   "outputs": [
    {
     "name": "stdout",
     "output_type": "stream",
     "text": [
      "DecisionTreeClassifier\n",
      "Train accuracy: 100.0, Test Accuracy: 99.86505258979956\n",
      "Train Precision: 100.0, Test Precision: 99.8292203910853\n",
      "Train Recall: 100.0, Test Recall: 99.88039299444682\n",
      "Train F1 Score: 100.0, Test F1 Score: 99.8548001366587\n"
     ]
    },
    {
     "data": {
      "text/plain": "<Figure size 1000x1000 with 2 Axes>",
      "image/png": "[encoded data removed]"
     },
     "metadata": {},
     "output_type": "display_data"
    }
   ],
   "source": [
    "model = DecisionTreeClassifier()\n",
    "model.fit(x_train, y_train)\n",
    "evaluate_classification(model, \"DecisionTreeClassifier\", x_train, x_test, y_train, y_test)"
   ],
   "metadata": {
    "collapsed": false,
    "ExecuteTime": {
     "end_time": "2024-01-19T07:29:10.462722900Z",
     "start_time": "2024-01-19T07:29:08.837180600Z"
    }
   },
   "id": "ccfde0d553fd82fb",
   "execution_count": 194
  },
  {
   "cell_type": "code",
   "outputs": [
    {
     "name": "stdout",
     "output_type": "stream",
     "text": [
      "KNeighborsClassifier\n",
      "Train accuracy: 100.0, Test Accuracy: 99.67056955745187\n",
      "Train Precision: 100.0, Test Precision: 99.57345162941478\n",
      "Train Recall: 100.0, Test Recall: 99.71806920119607\n",
      "Train F1 Score: 100.0, Test F1 Score: 99.6457079438255\n"
     ]
    },
    {
     "data": {
      "text/plain": "<Figure size 1000x1000 with 2 Axes>",
      "image/png": "[encoded data removed]"
     },
     "metadata": {},
     "output_type": "display_data"
    }
   ],
   "source": [
    "knn_model = KNeighborsClassifier(n_jobs=-1, leaf_size=50, weights='distance')\n",
    "knn_model.fit(x_train, y_train)\n",
    "evaluate_classification(knn_model, \"KNeighborsClassifier\", x_train, x_test, y_train, y_test)"
   ],
   "metadata": {
    "collapsed": false,
    "ExecuteTime": {
     "end_time": "2024-01-19T07:29:51.051630800Z",
     "start_time": "2024-01-19T07:29:10.466724700Z"
    }
   },
   "id": "8f3044dd2d9b6dc3",
   "execution_count": 195
  },
  {
   "cell_type": "markdown",
   "source": [
    "# Saving Model"
   ],
   "metadata": {
    "collapsed": false
   },
   "id": "ff4c3a4b8b48643d"
  },
  {
   "cell_type": "code",
   "outputs": [],
   "source": [
    "def save_model(model, filename):\n",
    "    pickle.dump(model, open(f\"{filename}.sav\", 'wb'))"
   ],
   "metadata": {
    "collapsed": false,
    "ExecuteTime": {
     "end_time": "2024-01-19T07:29:51.179165200Z",
     "start_time": "2024-01-19T07:29:51.042634Z"
    }
   },
   "id": "e54939446b47057e",
   "execution_count": 196
  },
  {
   "cell_type": "code",
   "outputs": [],
   "source": [
    "save_model(knn_model, \"KNN\")\n",
    "save_model(model, \"DecisionTreeClassifier\")"
   ],
   "metadata": {
    "collapsed": false,
    "ExecuteTime": {
     "end_time": "2024-01-19T07:29:51.180163Z",
     "start_time": "2024-01-19T07:29:51.059631400Z"
    }
   },
   "id": "642c890543a42a3a",
   "execution_count": 197
  },
  {
   "cell_type": "markdown",
   "source": [
    "# Loading the test dataset and testing our model"
   ],
   "metadata": {
    "collapsed": false
   },
   "id": "565a4c6e36d50f29"
  },
  {
   "cell_type": "code",
   "outputs": [],
   "source": [
    "dataset = pd.read_csv(\"nsl-kdd/KDDTest+.txt\")\n",
    "dataset.columns = columns\n",
    "\n",
    "dataset.loc[dataset['outcome'] == \"normal\", \"outcome\"] = 'normal'\n",
    "dataset.loc[dataset['outcome'] != \"normal\", \"outcome\"] = 'attack'\n",
    "\n",
    "dataset.loc[dataset['outcome'] == \"normal\", \"outcome\"] = 0\n",
    "dataset.loc[dataset['outcome'] != 0 , \"outcome\"] = 1\n",
    "\n",
    "Y_data = dataset['outcome'].astype('int')\n",
    "dataset.drop(cat_cols, axis=1, inplace=True)\n",
    "X_data = dataset.drop('outcome', axis=1)\n",
    "\n",
    "x_data = sc.fit_transform(X_data)\n",
    "# x_data = pca.fit_transform(x_data)\n",
    "X_train, X_test, Y_train, Y_test = train_test_split(x_data, Y_data, test_size=0.5)"
   ],
   "metadata": {
    "collapsed": false,
    "ExecuteTime": {
     "end_time": "2024-01-19T07:29:51.430745400Z",
     "start_time": "2024-01-19T07:29:51.155163Z"
    }
   },
   "id": "db1b57864f9d494",
   "execution_count": 198
  },
  {
   "cell_type": "code",
   "outputs": [
    {
     "name": "stdout",
     "output_type": "stream",
     "text": [
      "KNeighborsClassifier\n",
      "Train accuracy: 77.16262975778547, Test Accuracy: 77.23562810503904\n",
      "Train Precision: 97.07185039370079, Test Precision: 97.07744763760351\n",
      "Train Recall: 61.64062500000001, Test Recall: 61.97139303482587\n",
      "Train F1 Score: 75.40137614678899, Test F1 Score: 75.65002846840007\n"
     ]
    },
    {
     "data": {
      "text/plain": "<Figure size 1000x1000 with 2 Axes>",
      "image/png": "[encoded data removed]"
     },
     "metadata": {},
     "output_type": "display_data"
    }
   ],
   "source": [
    "evaluate_classification(knn_model, \"KNeighborsClassifier\", X_train, X_test, Y_train, Y_test)"
   ],
   "metadata": {
    "collapsed": false,
    "ExecuteTime": {
     "end_time": "2024-01-19T07:30:00.869989200Z",
     "start_time": "2024-01-19T07:29:51.428749400Z"
    }
   },
   "id": "b1082f8e88565e9a",
   "execution_count": 199
  },
  {
   "cell_type": "code",
   "outputs": [],
   "source": [
    "MLP = MLPClassifier(hidden_layer_sizes=(7,7,7), alpha=1e-5, max_iter=2000)"
   ],
   "metadata": {
    "collapsed": false,
    "ExecuteTime": {
     "end_time": "2024-01-19T07:30:00.982507800Z",
     "start_time": "2024-01-19T07:30:00.871989300Z"
    }
   },
   "id": "8563cd58925ed3f5",
   "execution_count": 200
  },
  {
   "cell_type": "code",
   "outputs": [
    {
     "data": {
      "text/plain": "MLPClassifier(alpha=1e-05, hidden_layer_sizes=(7, 7, 7), max_iter=2000)",
      "text/html": "<style>#sk-container-id-18 {color: black;background-color: white;}#sk-container-id-18 pre{padding: 0;}#sk-container-id-18 div.sk-toggleable {background-color: white;}#sk-container-id-18 label.sk-toggleable__label {cursor: pointer;display: block;width: 100%;margin-bottom: 0;padding: 0.3em;box-sizing: border-box;text-align: center;}#sk-container-id-18 label.sk-toggleable__label-arrow:before {content: \"▸\";float: left;margin-right: 0.25em;color: #696969;}#sk-container-id-18 label.sk-toggleable__label-arrow:hover:before {color: black;}#sk-container-id-18 div.sk-estimator:hover label.sk-toggleable__label-arrow:before {color: black;}#sk-container-id-18 div.sk-toggleable__content {max-height: 0;max-width: 0;overflow: hidden;text-align: left;background-color: #f0f8ff;}#sk-container-id-18 div.sk-toggleable__content pre {margin: 0.2em;color: black;border-radius: 0.25em;background-color: #f0f8ff;}#sk-container-id-18 input.sk-toggleable__control:checked~div.sk-toggleable__content {max-height: 200px;max-width: 100%;overflow: auto;}#sk-container-id-18 input.sk-toggleable__control:checked~label.sk-toggleable__label-arrow:before {content: \"▾\";}#sk-container-id-18 div.sk-estimator input.sk-toggleable__control:checked~label.sk-toggleable__label {background-color: #d4ebff;}#sk-container-id-18 div.sk-label input.sk-toggleable__control:checked~label.sk-toggleable__label {background-color: #d4ebff;}#sk-container-id-18 input.sk-hidden--visually {border: 0;clip: rect(1px 1px 1px 1px);clip: rect(1px, 1px, 1px, 1px);height: 1px;margin: -1px;overflow: hidden;padding: 0;position: absolute;width: 1px;}#sk-container-id-18 div.sk-estimator {font-family: monospace;background-color: #f0f8ff;border: 1px dotted black;border-radius: 0.25em;box-sizing: border-box;margin-bottom: 0.5em;}#sk-container-id-18 div.sk-estimator:hover {background-color: #d4ebff;}#sk-container-id-18 div.sk-parallel-item::after {content: \"\";width: 100%;border-bottom: 1px solid gray;flex-grow: 1;}#sk-container-id-18 div.sk-label:hover label.sk-toggleable__label {background-color: #d4ebff;}#sk-container-id-18 div.sk-serial::before {content: \"\";position: absolute;border-left: 1px solid gray;box-sizing: border-box;top: 0;bottom: 0;left: 50%;z-index: 0;}#sk-container-id-18 div.sk-serial {display: flex;flex-direction: column;align-items: center;background-color: white;padding-right: 0.2em;padding-left: 0.2em;position: relative;}#sk-container-id-18 div.sk-item {position: relative;z-index: 1;}#sk-container-id-18 div.sk-parallel {display: flex;align-items: stretch;justify-content: center;background-color: white;position: relative;}#sk-container-id-18 div.sk-item::before, #sk-container-id-18 div.sk-parallel-item::before {content: \"\";position: absolute;border-left: 1px solid gray;box-sizing: border-box;top: 0;bottom: 0;left: 50%;z-index: -1;}#sk-container-id-18 div.sk-parallel-item {display: flex;flex-direction: column;z-index: 1;position: relative;background-color: white;}#sk-container-id-18 div.sk-parallel-item:first-child::after {align-self: flex-end;width: 50%;}#sk-container-id-18 div.sk-parallel-item:last-child::after {align-self: flex-start;width: 50%;}#sk-container-id-18 div.sk-parallel-item:only-child::after {width: 0;}#sk-container-id-18 div.sk-dashed-wrapped {border: 1px dashed gray;margin: 0 0.4em 0.5em 0.4em;box-sizing: border-box;padding-bottom: 0.4em;background-color: white;}#sk-container-id-18 div.sk-label label {font-family: monospace;font-weight: bold;display: inline-block;line-height: 1.2em;}#sk-container-id-18 div.sk-label-container {text-align: center;}#sk-container-id-18 div.sk-container {/* jupyter's `normalize.less` sets `[hidden] { display: none; }` but bootstrap.min.css set `[hidden] { display: none !important; }` so we also need the `!important` here to be able to override the default hidden behavior on the sphinx rendered scikit-learn.org. See: https://github.com/scikit-learn/scikit-learn/issues/21755 */display: inline-block !important;position: relative;}#sk-container-id-18 div.sk-text-repr-fallback {display: none;}</style><div id=\"sk-container-id-18\" class=\"sk-top-container\"><div class=\"sk-text-repr-fallback\"><pre>MLPClassifier(alpha=1e-05, hidden_layer_sizes=(7, 7, 7), max_iter=2000)</pre><b>In a Jupyter environment, please rerun this cell to show the HTML representation or trust the notebook. <br />On GitHub, the HTML representation is unable to render, please try loading this page with nbviewer.org.</b></div><div class=\"sk-container\" hidden><div class=\"sk-item\"><div class=\"sk-estimator sk-toggleable\"><input class=\"sk-toggleable__control sk-hidden--visually\" id=\"sk-estimator-id-18\" type=\"checkbox\" checked><label for=\"sk-estimator-id-18\" class=\"sk-toggleable__label sk-toggleable__label-arrow\">MLPClassifier</label><div class=\"sk-toggleable__content\"><pre>MLPClassifier(alpha=1e-05, hidden_layer_sizes=(7, 7, 7), max_iter=2000)</pre></div></div></div></div></div>"
     },
     "execution_count": 201,
     "metadata": {},
     "output_type": "execute_result"
    }
   ],
   "source": [
    "MLP.fit(x_train, y_train)"
   ],
   "metadata": {
    "collapsed": false,
    "ExecuteTime": {
     "end_time": "2024-01-19T07:30:21.098036800Z",
     "start_time": "2024-01-19T07:30:00.887990900Z"
    }
   },
   "id": "b226496c4b5e64ea",
   "execution_count": 201
  },
  {
   "cell_type": "code",
   "outputs": [
    {
     "data": {
      "text/plain": "0.8017566428603115"
     },
     "execution_count": 202,
     "metadata": {},
     "output_type": "execute_result"
    }
   ],
   "source": [
    "metrics.accuracy_score(Y_data, MLP.predict(x_data))"
   ],
   "metadata": {
    "collapsed": false,
    "ExecuteTime": {
     "end_time": "2024-01-19T07:30:21.157561700Z",
     "start_time": "2024-01-19T07:30:21.097037600Z"
    }
   },
   "id": "feaf7b78fdc5568d",
   "execution_count": 202
  },
  {
   "cell_type": "code",
   "outputs": [
    {
     "data": {
      "text/plain": "(100777, 35)"
     },
     "execution_count": 203,
     "metadata": {},
     "output_type": "execute_result"
    }
   ],
   "source": [
    "x_train.shape"
   ],
   "metadata": {
    "collapsed": false,
    "ExecuteTime": {
     "end_time": "2024-01-19T07:30:21.159560400Z",
     "start_time": "2024-01-19T07:30:21.148562900Z"
    }
   },
   "id": "51c8a3577ee24f51",
   "execution_count": 203
  },
  {
   "cell_type": "code",
   "outputs": [
    {
     "name": "stdout",
     "output_type": "stream",
     "text": [
      "Epoch 1/10\n",
      "3150/3150 [==============================] - 7s 2ms/step - loss: 1.2746 - accuracy: 0.8409 - val_loss: 0.6481 - val_accuracy: 0.9572\n",
      "Epoch 2/10\n",
      "3150/3150 [==============================] - 6s 2ms/step - loss: 1.0598 - accuracy: 0.8610 - val_loss: 0.5876 - val_accuracy: 0.9619\n",
      "Epoch 3/10\n",
      "3150/3150 [==============================] - 6s 2ms/step - loss: 1.2177 - accuracy: 0.8559 - val_loss: 0.8549 - val_accuracy: 0.9455\n",
      "Epoch 4/10\n",
      "3150/3150 [==============================] - 6s 2ms/step - loss: 1.2438 - accuracy: 0.8579 - val_loss: 0.8828 - val_accuracy: 0.9430\n",
      "Epoch 5/10\n",
      "3150/3150 [==============================] - 6s 2ms/step - loss: 1.2325 - accuracy: 0.8567 - val_loss: 0.8470 - val_accuracy: 0.9465\n",
      "Epoch 6/10\n",
      "3150/3150 [==============================] - 6s 2ms/step - loss: 1.2284 - accuracy: 0.8551 - val_loss: 0.8479 - val_accuracy: 0.9464\n",
      "Epoch 7/10\n",
      "3150/3150 [==============================] - 6s 2ms/step - loss: 1.1031 - accuracy: 0.8653 - val_loss: 0.5906 - val_accuracy: 0.9627\n",
      "Epoch 8/10\n",
      "3150/3150 [==============================] - 6s 2ms/step - loss: 1.0468 - accuracy: 0.8728 - val_loss: 0.6098 - val_accuracy: 0.9611\n",
      "Epoch 9/10\n",
      "3150/3150 [==============================] - 6s 2ms/step - loss: 1.0191 - accuracy: 0.8746 - val_loss: 0.5934 - val_accuracy: 0.9624\n",
      "Epoch 10/10\n",
      "3150/3150 [==============================] - 6s 2ms/step - loss: 1.0551 - accuracy: 0.8719 - val_loss: 0.5827 - val_accuracy: 0.9631\n"
     ]
    },
    {
     "data": {
      "text/plain": "<keras.src.callbacks.History at 0x2ad877117b0>"
     },
     "execution_count": 208,
     "metadata": {},
     "output_type": "execute_result"
    }
   ],
   "source": [
    "model = Sequential()\n",
    "\n",
    "model.add(Dense(256, activation='relu', input_dim=35))\n",
    "model.add(Dropout(0.2))\n",
    "\n",
    "model.add(Dense(128, activation='relu'))\n",
    "model.add(Dropout(0.2))\n",
    "\n",
    "model.add(Dense(64, activation='relu'))\n",
    "model.add(Dropout(0.2))\n",
    "\n",
    "model.add(Dense(32, activation='relu'))\n",
    "model.add(Dropout(0.2))\n",
    "\n",
    "model.add(Dense(16, activation='softmax'))\n",
    "model.add(Dropout(0.2))\n",
    "\n",
    "opt = tf.keras.optimizers.Adam()\n",
    "\n",
    "model.compile(loss='sparse_categorical_crossentropy',\n",
    "              optimizer=opt,\n",
    "              metrics= ['accuracy'])\n",
    "\n",
    "model.fit(x_train, y_train, epochs=10, validation_data=(x_test, y_test))"
   ],
   "metadata": {
    "collapsed": false,
    "ExecuteTime": {
     "end_time": "2024-01-19T07:44:08.759798700Z",
     "start_time": "2024-01-19T07:43:05.830212600Z"
    }
   },
   "id": "c671f62e023d334c",
   "execution_count": 208
  },
  {
   "cell_type": "code",
   "outputs": [
    {
     "name": "stdout",
     "output_type": "stream",
     "text": [
      "705/705 [==============================] - 1s 816us/step - loss: 3.9818 - accuracy: 0.7453\n"
     ]
    },
    {
     "data": {
      "text/plain": "[3.981842041015625, 0.7453311681747437]"
     },
     "execution_count": 205,
     "metadata": {},
     "output_type": "execute_result"
    }
   ],
   "source": [
    "model.evaluate(x_data, Y_data)"
   ],
   "metadata": {
    "collapsed": false,
    "ExecuteTime": {
     "end_time": "2024-01-19T07:31:25.372753700Z",
     "start_time": "2024-01-19T07:31:24.693363400Z"
    }
   },
   "id": "228ae874ed8b5827",
   "execution_count": 205
  }
 ],
 "metadata": {
  "kernelspec": {
   "display_name": "Python 3",
   "language": "python",
   "name": "python3"
  },
  "language_info": {
   "codemirror_mode": {
    "name": "ipython",
    "version": 2
   },
   "file_extension": ".py",
   "mimetype": "text/x-python",
   "name": "python",
   "nbconvert_exporter": "python",
   "pygments_lexer": "ipython2",
   "version": "2.7.6"
  }
 },
 "nbformat": 4,
 "nbformat_minor": 5
}
